{
 "cells": [
  {
   "cell_type": "code",
   "execution_count": null,
   "metadata": {},
   "outputs": [],
   "source": [
    "import pandas as pd\n",
    "import matplotlib.pyplot as plt\n",
    "import numpy as np"
   ]
  },
  {
   "cell_type": "code",
   "execution_count": null,
   "metadata": {},
   "outputs": [],
   "source": [
    "\n",
    "df = pd.read_csv('../data/internet_service_churn.csv')\n",
    "df.head"
   ]
  },
  {
   "cell_type": "code",
   "execution_count": null,
   "metadata": {},
   "outputs": [],
   "source": [
    "df.rename(columns={'reamining_contract': 'remaining_contract'}, inplace=True)\n"
   ]
  },
  {
   "cell_type": "code",
   "execution_count": null,
   "metadata": {},
   "outputs": [],
   "source": [
    "df.shape"
   ]
  },
  {
   "cell_type": "code",
   "execution_count": null,
   "metadata": {},
   "outputs": [],
   "source": [
    "df.dtypes"
   ]
  },
  {
   "cell_type": "code",
   "execution_count": null,
   "metadata": {},
   "outputs": [],
   "source": [
    "# Виявлення відсутніх значень у кожній колонці\n",
    "missing_values = df.isnull().sum()\n",
    "print(\"Кількість відсутніх значень у кожній колонці:\")\n",
    "print(missing_values)"
   ]
  },
  {
   "cell_type": "markdown",
   "metadata": {},
   "source": [
    "!!!!! пропоную видалити тих кілька рядків, де download_avarage i upload_avarage не мають значень."
   ]
  },
  {
   "cell_type": "code",
   "execution_count": null,
   "metadata": {},
   "outputs": [],
   "source": [
    "df = df.dropna(subset=['download_avg'])\n",
    "df.shape"
   ]
  },
  {
   "cell_type": "code",
   "execution_count": null,
   "metadata": {},
   "outputs": [],
   "source": [
    "df = df.dropna(subset=['upload_avg'])\n",
    "df.shape"
   ]
  },
  {
   "cell_type": "code",
   "execution_count": null,
   "metadata": {},
   "outputs": [],
   "source": [
    "df.isnull().sum()"
   ]
  },
  {
   "cell_type": "code",
   "execution_count": null,
   "metadata": {},
   "outputs": [],
   "source": [
    "# Запис очищеного датафрейму у CSV-файл\n",
    "df.to_csv('../data/partially_cleaned_data.csv', index=False)"
   ]
  },
  {
   "cell_type": "code",
   "execution_count": null,
   "metadata": {},
   "outputs": [],
   "source": [
    "# Розрахунок кореляційної матриці\n",
    "correlation_matrix = df.corr()\n",
    "\n",
    "# Виведення кореляційної матриці\n",
    "#print(\"Кореляційна матриця:\")\n",
    "#print(correlation_matrix)\n",
    "\n",
    "# Візуалізація кореляційної матриці\n",
    "plt.figure(figsize=(10, 8))\n",
    "plt.matshow(correlation_matrix, fignum=1, cmap='coolwarm')\n",
    "\n",
    "# Додавання міток осей\n",
    "plt.xticks(range(len(correlation_matrix.columns)), correlation_matrix.columns, rotation=90)\n",
    "plt.yticks(range(len(correlation_matrix.columns)), correlation_matrix.columns)\n",
    "\n",
    "# Додавання кольорової смуги\n",
    "plt.colorbar()\n",
    "\n",
    "# Додавання числових значень на теплову карту\n",
    "for (i, j), val in np.ndenumerate(correlation_matrix.values):\n",
    "    plt.text(j, i, f'{val:.2f}', ha='center', va='center', color='black')\n",
    "\n",
    "plt.title('Кореляційна Матриця')\n",
    "plt.savefig(\"../results/correlation_matrix_full.png\")\n",
    "plt.show()"
   ]
  },
  {
   "cell_type": "code",
   "execution_count": null,
   "metadata": {},
   "outputs": [],
   "source": [
    "# Вибір колонок для побудови гістограм (без першої та останньої)\n",
    "columns_to_plot = df.columns[1:-1]\n",
    "\n",
    "# Створення фігури та підграфіків (3 рядки по 3 підграфіки)\n",
    "fig, axes = plt.subplots(3, 3, figsize=(15, 12))  # 3x3 сітка, загальний розмір фігури 15x12 дюймів\n",
    "fig.suptitle('Гістограми для всіх значень', fontsize=16)\n",
    "\n",
    "# Перебір колонок і відповідних підграфіків\n",
    "for i, column in enumerate(columns_to_plot):\n",
    "    ax = axes[i // 3, i % 3]  # Вибір підграфіка в сітці\n",
    "    nof_bins = 30\n",
    "    if i == 0 or i == 1: nof_bins = 2 \n",
    "    if i == 5 or i == 8: nof_bins = int(df[column].max())+1\n",
    "    \n",
    "    ax.hist(df[column].dropna(), bins=nof_bins, color='blue', alpha=0.7)  # Побудова гістограми\n",
    "    ax.set_title(f'{column}')  # Назва для кожного підграфіка\n",
    "    ax.set_xlabel(column)\n",
    "    ax.set_ylabel('Частота')\n",
    "    ax.grid(True)  # Додавання сітки\n",
    "    if i == 3 or i == 5 or i == 6 or i == 7 or i == 8: ax.set_yscale(\"log\")\n",
    "\n",
    "# Автоматичне коригування відстаней між підграфіками\n",
    "plt.tight_layout(rect=[0, 0, 1, 0.96])\n",
    "\n",
    "# Відображення фігури\n",
    "plt.savefig(\"../results/histograms_raw.png\")\n",
    "plt.show()\n"
   ]
  },
  {
   "cell_type": "code",
   "execution_count": null,
   "metadata": {},
   "outputs": [],
   "source": [
    "filtered_df = df[(df['download_avg'] == 0) & (df['upload_avg'] == 0)]\n",
    "missing_values_count = filtered_df['remaining_contract'].isna().sum()\n",
    "missing_values_count"
   ]
  },
  {
   "cell_type": "code",
   "execution_count": null,
   "metadata": {},
   "outputs": [],
   "source": [
    "\n",
    "filtered_df = df[(df['download_avg'] != 0) & (df['upload_avg'] != 0)]\n",
    "missing_values_count = filtered_df['remaining_contract'].isna().sum()\n",
    "missing_values_count"
   ]
  },
  {
   "cell_type": "code",
   "execution_count": null,
   "metadata": {},
   "outputs": [],
   "source": [
    "filtered_df = df[df['remaining_contract'].isna()]\n",
    "filtered_df['download_avg'].mean()"
   ]
  },
  {
   "cell_type": "code",
   "execution_count": null,
   "metadata": {},
   "outputs": [],
   "source": [
    "# Фільтрація значень, які не дорівнюють нулю і не є NaN\n",
    "non_zero_values = df['remaining_contract'][df['remaining_contract'] != 0].dropna()\n",
    "\n",
    "# Знаходження найменшого значення\n",
    "non_zero_values.min()"
   ]
  },
  {
   "cell_type": "code",
   "execution_count": null,
   "metadata": {},
   "outputs": [],
   "source": [
    "# Створення фігури та підграфіків (1 рядок, 3 стовпці)\n",
    "fig, axes = plt.subplots(1, 3, figsize=(18, 6))\n",
    "fig.suptitle('Значення колонки \"churn\" в залежності від значень колонки \"remaining_contract\"', fontsize=16)\n",
    "\n",
    "# Графік 1: Значення в колонці \"churn\", де в колонці \"remaining_contract\" немає значення\n",
    "axes[0].hist(df[df['remaining_contract'].isna()]['churn'].dropna(), bins=2, color='blue', alpha=0.7)\n",
    "axes[0].set_title('remaining_contract: Немає значення. Всіх '+str(df[df['remaining_contract'].isna()].shape[0]))\n",
    "axes[0].set_xlabel('churn')\n",
    "axes[0].set_ylabel('Частота')\n",
    "axes[0].grid(True)\n",
    "\n",
    "# Графік 2: Значення в колонці \"churn\", де в колонці \"remaining_contract\" дорівнює 0\n",
    "axes[1].hist(df[df['remaining_contract'] < 0.01]['churn'].dropna(), bins=2, color='green', alpha=0.7)\n",
    "axes[1].set_title('remaining_contract: Значення < 0.01. Всіх '+str(df[df[\"remaining_contract\"]<0.01].shape[0]))\n",
    "axes[1].set_xlabel('churn')\n",
    "axes[1].set_ylabel('Частота')\n",
    "axes[1].grid(True)\n",
    "#axes[1].set_yscale(\"log\")\n",
    "\n",
    "# Графік 3: Значення в колонці \"churn\", де в колонці \"remaining_contract\" не нуль\n",
    "axes[2].hist(df[df['remaining_contract'] >= 0.01]['churn'].dropna(), bins=2, color='orange', alpha=0.7)\n",
    "axes[2].set_title('remaining_contract: Значення >= 0.01. Всіх ' + str(df[df[\"remaining_contract\"]>=0.01].shape[0]))\n",
    "axes[2].set_xlabel('churn')\n",
    "axes[2].set_ylabel('Частота')\n",
    "axes[2].grid(True)\n",
    "\n",
    "# Автоматичне коригування відстаней між підграфіками\n",
    "plt.tight_layout(rect=[0, 0, 1, 0.96])\n",
    "\n",
    "# Відображення фігури\n",
    "plt.savefig(\"../results/churn_vs_remaining_contract.png\")\n",
    "plt.show()\n",
    "\n",
    "print ()"
   ]
  },
  {
   "cell_type": "code",
   "execution_count": null,
   "metadata": {},
   "outputs": [],
   "source": [
    "# Фільтрація рядків, де remaining_contract не дорівнює 0 і churn = 1\n",
    "filtered_df = df[(df['remaining_contract'] >= 0.01) & (df['churn'] == 1)]\n",
    "print(filtered_df.shape)\n",
    "# Вибір колонок для побудови гістограм (без першої та останньої)\n",
    "columns_to_plot = filtered_df.columns[1:-1]\n",
    "\n",
    "\n",
    "# Створення фігури та підграфіків (3 рядки по 3 підграфіки)\n",
    "fig, axes = plt.subplots(3, 3, figsize=(15, 12))  # 3x3 сітка, загальний розмір фігури 15x12 дюймів\n",
    "fig.suptitle('Гістограми для remaining_contract >= 0.01 & churn == 1', fontsize=16)\n",
    "\n",
    "# Перебір колонок і відповідних підграфіків\n",
    "for i, column in enumerate(columns_to_plot):\n",
    "    ax = axes[i // 3, i % 3]  # Вибір підграфіка в сітці\n",
    "    nof_bins = 30\n",
    "    if i == 0 or i == 1: nof_bins = 2 \n",
    "    if i == 5 or i == 8: nof_bins = int(df[column].max())+1\n",
    "    \n",
    "    ax.hist(filtered_df[column].dropna(), bins=nof_bins, color='blue', alpha=0.7)  # Побудова гістограми\n",
    "    ax.set_title(f'{column}')  # Назва для кожного підграфіка\n",
    "    ax.set_xlabel(column)\n",
    "    ax.set_ylabel('Частота')\n",
    "    ax.grid(True)  # Додавання сітки\n",
    "    if i == 3 or i == 5 or i == 6 or i == 7 or i == 8: ax.set_yscale(\"log\")\n",
    "\n",
    "# Автоматичне коригування відстаней між підграфіками\n",
    "plt.tight_layout(rect=[0, 0, 1, 0.96])\n",
    "\n",
    "# Відображення фігури\n",
    "plt.savefig(\"../results/hist_for_remainig_contract_not_zero_churn_one.png\")\n",
    "plt.show()"
   ]
  },
  {
   "cell_type": "code",
   "execution_count": null,
   "metadata": {},
   "outputs": [],
   "source": [
    "# Фільтрація рядків\n",
    "filtered_df = df[(df['remaining_contract'].isna())]\n",
    "filtered_df1 = df[(df['remaining_contract']<0.01)]\n",
    "filtered_df2 = df[(df['remaining_contract']>=0.01)]\n",
    "print(filtered_df.shape)\n",
    "# Вибір колонок для побудови гістограм (без першої та останньої)\n",
    "columns_to_plot = filtered_df.columns[1:-1]\n",
    "\n",
    "\n",
    "# Створення фігури та підграфіків (3 рядки по 3 підграфіки)\n",
    "fig, axes = plt.subplots(3, 3, figsize=(15, 12))  # 3x3 сітка, загальний розмір фігури 15x12 дюймів\n",
    "fig.suptitle('Гістограми для різних значень remaining_contract', fontsize=16)\n",
    "\n",
    "# Перебір колонок і відповідних підграфіків\n",
    "for i, column in enumerate(columns_to_plot):\n",
    "    ax = axes[i // 3, i % 3]  # Вибір підграфіка в сітці\n",
    "    nof_bins = 30\n",
    "    if i == 0 or i == 1: nof_bins = 2 \n",
    "    if i == 5 or i == 8: nof_bins = int(df[column].max())+1\n",
    "    \n",
    "    ax.hist(filtered_df[column].dropna(), bins=nof_bins, edgecolor='blue',label = \"NULL\", density = True, stacked = True, hatch = \"/\", histtype = \"step\")  # Побудова гістограми\n",
    "    ax.hist(filtered_df1[column].dropna(), bins=nof_bins, edgecolor='green', label = \"0\", density = True, stacked = True, hatch = \"|\", histtype = \"step\")  # Побудова гістограми\n",
    "    ax.hist(filtered_df2[column].dropna(), bins=nof_bins, edgecolor='red', label = \">0\", density = True, stacked = True, hatch = \"\\\\\", histtype = \"step\")  # Побудова гістограми\n",
    "    ax.set_title(f'{column}')  # Назва для кожного підграфіка\n",
    "    ax.set_xlabel(column)\n",
    "    ax.set_ylabel('Частота')\n",
    "    ax.legend()\n",
    "    ax.grid(True)  # Додавання сітки\n",
    "    if i == 3 or i == 5 or i == 6 or i == 7 or i == 8: ax.set_yscale(\"log\")\n",
    "\n",
    "# Автоматичне коригування відстаней між підграфіками\n",
    "plt.tight_layout(rect=[0, 0, 1, 0.96])\n",
    "\n",
    "# Відображення фігури\n",
    "plt.savefig(\"../results/hist_for_different_remaining_contract.png\")\n",
    "plt.show()"
   ]
  },
  {
   "cell_type": "code",
   "execution_count": null,
   "metadata": {},
   "outputs": [],
   "source": [
    "correlation_matrix = filtered_df.corr()\n",
    "plt.figure(figsize=(10, 6))\n",
    "plt.matshow(correlation_matrix, fignum=1, cmap='coolwarm')\n",
    "plt.xticks(range(len(correlation_matrix.columns)), correlation_matrix.columns, rotation=90)\n",
    "plt.yticks(range(len(correlation_matrix.columns)), correlation_matrix.columns)\n",
    "for (i, j), val in np.ndenumerate(correlation_matrix.values):\n",
    "    plt.text(j, i, f'{val:.2f}', ha='center', va='center', color='black')\n",
    "plt.title('Кореляційна Матриця, remaining_contract = NULL')\n",
    "plt.savefig(\"../results/correlation_matrix_remaining_contract_null.png\",bbox_inches = \"tight\")\n",
    "plt.show()\n",
    "\n",
    "correlation_matrix1 = filtered_df1.corr()\n",
    "plt.figure(figsize=(8, 6))\n",
    "plt.matshow(correlation_matrix1, fignum=1, cmap='coolwarm')\n",
    "plt.xticks(range(len(correlation_matrix1.columns)), correlation_matrix1.columns, rotation=90)\n",
    "plt.yticks(range(len(correlation_matrix1.columns)), correlation_matrix1.columns)\n",
    "for (i, j), val in np.ndenumerate(correlation_matrix1.values):\n",
    "    plt.text(j, i, f'{val:.2f}', ha='center', va='center', color='black')\n",
    "plt.title('Кореляційна Матриця, remaining_contract = 0')\n",
    "plt.savefig(\"../results/correlation_matrix_remaining_contract_zero.png\",bbox_inches = \"tight\")\n",
    "plt.show()\n",
    "\n",
    "correlation_matrix2 = filtered_df2.corr()\n",
    "plt.figure(figsize=(8, 6))\n",
    "plt.matshow(correlation_matrix2, fignum=1, cmap='coolwarm')\n",
    "plt.xticks(range(len(correlation_matrix2.columns)), correlation_matrix2.columns, rotation=90)\n",
    "plt.yticks(range(len(correlation_matrix2.columns)), correlation_matrix2.columns)\n",
    "for (i, j), val in np.ndenumerate(correlation_matrix2.values):\n",
    "    plt.text(j, i, f'{val:.2f}', ha='center', va='center', color='black')\n",
    "plt.title('Кореляційна Матриця, remaining_contract > 0')\n",
    "plt.savefig(\"../results/correlation_matrix_remaining_contract_not_zero.png\",bbox_inches = \"tight\")\n",
    "plt.show()\n",
    "#plt.savefig(\"results/correlation_matrix_full.png\")\n",
    "#plt.savefig(\"results/correlation_matrix_full.png\")"
   ]
  },
  {
   "cell_type": "code",
   "execution_count": null,
   "metadata": {},
   "outputs": [],
   "source": [
    "columns_to_normalize = [\"subscription_age\", \"bill_avg\", \"remaining_contract\", \"service_failure_count\", \"download_avg\", \"upload_avg\", \"download_over_limit\"]\n",
    "#columns_to_categorical = [\"is_tv_subscriber\", \"is_movie_package_subscriber\"]\n",
    "\n",
    "from sklearn.preprocessing import MinMaxScaler\n",
    "scaler = MinMaxScaler()\n",
    "df[columns_to_normalize] = pd.DataFrame(scaler.fit_transform(df[columns_to_normalize]))\n"
   ]
  },
  {
   "cell_type": "code",
   "execution_count": null,
   "metadata": {},
   "outputs": [],
   "source": [
    "#df[columns_to_categorical] = df[columns_to_categorical].astype(\"category\")"
   ]
  },
  {
   "cell_type": "code",
   "execution_count": null,
   "metadata": {},
   "outputs": [],
   "source": [
    "# Видаляємо колонку 'remaining_contract' з DataFrame\n",
    "df_wo_remaining = df.drop('remaining_contract', axis=1)\n"
   ]
  },
  {
   "cell_type": "code",
   "execution_count": null,
   "metadata": {},
   "outputs": [],
   "source": []
  },
  {
   "cell_type": "code",
   "execution_count": null,
   "metadata": {},
   "outputs": [],
   "source": [
    "# Запис очищеного датафрейму у CSV-файл\n",
    "df_wo_remaining.to_csv('../data/cleaned_norm_data.csv', index=False)"
   ]
  }
 ],
 "metadata": {
  "kernelspec": {
   "display_name": "Python 3",
   "language": "python",
   "name": "python3"
  },
  "language_info": {
   "codemirror_mode": {
    "name": "ipython",
    "version": 3
   },
   "file_extension": ".py",
   "mimetype": "text/x-python",
   "name": "python",
   "nbconvert_exporter": "python",
   "pygments_lexer": "ipython3",
   "version": "3.12.1"
  }
 },
 "nbformat": 4,
 "nbformat_minor": 2
}
