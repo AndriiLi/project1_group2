{
 "cells": [
  {
   "cell_type": "code",
   "execution_count": 2,
   "metadata": {},
   "outputs": [],
   "source": [
    "import pandas as pd\n",
    "from sklearn.preprocessing import MinMaxScaler\n"
   ]
  },
  {
   "cell_type": "code",
   "execution_count": 16,
   "metadata": {},
   "outputs": [
    {
     "name": "stderr",
     "output_type": "stream",
     "text": [
      "C:\\Users\\Admin\\AppData\\Local\\Temp\\ipykernel_5956\\1762178189.py:1: DtypeWarning: Columns (0,1,2,10) have mixed types. Specify dtype option on import or set low_memory=False.\n",
      "  df_0 = pd.read_csv('C:/Users/Admin/Documents/GitHub/Modelling/project1_group2/data/updated_internet_service_churn_byba-1.csv', delimiter=',')\n",
      "C:\\Users\\Admin\\AppData\\Local\\Temp\\ipykernel_5956\\1762178189.py:2: DtypeWarning: Columns (0,8) have mixed types. Specify dtype option on import or set low_memory=False.\n",
      "  df_neg1 = pd.read_csv('C:/Users/Admin/Documents/GitHub/Modelling/project1_group2/data/updated_internet_service_churn_byba.csv', delimiter=',')\n"
     ]
    }
   ],
   "source": [
    "df_0 = pd.read_csv('C:/Users/Admin/Documents/GitHub/Modelling/project1_group2/data/updated_internet_service_churn_byba-1.csv', delimiter=',')\n",
    "df_neg1 = pd.read_csv('C:/Users/Admin/Documents/GitHub/Modelling/project1_group2/data/updated_internet_service_churn_byba.csv', delimiter=',')\n"
   ]
  },
  {
   "cell_type": "code",
   "execution_count": 17,
   "metadata": {},
   "outputs": [],
   "source": [
    "\n",
    "scaler = MinMaxScaler()\n",
    "\n",
    "numeric_cols = ['subscription_age', 'bill_avg', 'reamining_contract', \n",
    "                'service_failure_count', 'download_avg', 'upload_avg', \n",
    "                'download_over_limit']\n",
    "\n",
    "df_0[numeric_cols] = scaler.fit_transform(df_0[numeric_cols])\n",
    "df_neg1[numeric_cols] = scaler.fit_transform(df_neg1[numeric_cols])"
   ]
  },
  {
   "cell_type": "code",
   "execution_count": 18,
   "metadata": {},
   "outputs": [],
   "source": [
    "scaling_factors = pd.DataFrame({'min': scaler.data_min_, 'max': scaler.data_max_}, index=numeric_cols)\n",
    "\n",
    "scaling_factors.to_csv(r'scaling_factors.csv')\n",
    "\n"
   ]
  },
  {
   "cell_type": "code",
   "execution_count": 19,
   "metadata": {},
   "outputs": [],
   "source": [
    "\n",
    "df_0.to_csv(r'normalized_internet_service_churn_byba-1.csv', index=False)\n",
    "df_neg1.to_csv(r'normalized_internet_service_churn_byba.csv', index=False)"
   ]
  }
 ],
 "metadata": {
  "kernelspec": {
   "display_name": "Python 3",
   "language": "python",
   "name": "python3"
  },
  "language_info": {
   "codemirror_mode": {
    "name": "ipython",
    "version": 3
   },
   "file_extension": ".py",
   "mimetype": "text/x-python",
   "name": "python",
   "nbconvert_exporter": "python",
   "pygments_lexer": "ipython3",
   "version": "3.12.5"
  }
 },
 "nbformat": 4,
 "nbformat_minor": 2
}
